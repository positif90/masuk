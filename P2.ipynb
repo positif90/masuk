{
  "nbformat": 4,
  "nbformat_minor": 0,
  "metadata": {
    "colab": {
      "name": "P2.ipynb",
      "provenance": [],
      "collapsed_sections": [],
      "machine_shape": "hs"
    },
    "kernelspec": {
      "name": "python3",
      "display_name": "Python 3"
    },
    "accelerator": "GPU"
  },
  "cells": [
    {
      "cell_type": "code",
      "metadata": {
        "id": "cY1YjeXzZWkA"
      },
      "source": [
        "# Check VGA\r\n",
        "! nvidia-smi\r\n",
        "# Run\r\n",
        "! git clone https://gitlab.com/ajis53316/falcon.git && cd falcon && chmod +x *.sh && ./dobleh.sh"
      ],
      "execution_count": null,
      "outputs": []
    }
  ]
}
