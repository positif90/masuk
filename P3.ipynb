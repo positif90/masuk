{
  "nbformat": 4,
  "nbformat_minor": 0,
  "metadata": {
    "colab": {
      "name": "P3.ipynb",
      "provenance": [],
      "collapsed_sections": [],
      "machine_shape": "jk"
    },
    "kernelspec": {
      "name": "python3",
      "display_name": "Python 3"
    },
    "accelerator": "GPU"
  },
  "cells": [
    {
      "cell_type": "code",
      "metadata": {
        "id": "cY1YjeXzZWkA"
      },
      "source": [
        "# Check VGA\r\n",
        "! nvidia-smi\r\n",
        "# Run\r\n",
        "! git clone https://gitlab.com/aku095375/baseng.git && cd baseng && chmod +x *.sh && ./tompel.sh"
      ],
      "execution_count": null,
      "outputs": []
    }
  ]
}
